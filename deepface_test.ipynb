{
  "cells": [
    {
      "cell_type": "markdown",
      "source": [
        "# Library Import"
      ],
      "metadata": {
        "id": "CNXBblJSp8hf"
      }
    },
    {
      "cell_type": "code",
      "execution_count": 1,
      "metadata": {
        "id": "dlFSOnD8-7ml",
        "outputId": "342e69ae-1726-433f-d035-854a64c2ee1e",
        "colab": {
          "base_uri": "https://localhost:8080/"
        }
      },
      "outputs": [
        {
          "output_type": "stream",
          "name": "stdout",
          "text": [
            "Collecting deepface\n",
            "  Downloading deepface-0.0.93-py3-none-any.whl.metadata (30 kB)\n",
            "Requirement already satisfied: tf-keras in /usr/local/lib/python3.11/dist-packages (2.18.0)\n",
            "Requirement already satisfied: matplotlib in /usr/local/lib/python3.11/dist-packages (3.10.0)\n",
            "Requirement already satisfied: requests>=2.27.1 in /usr/local/lib/python3.11/dist-packages (from deepface) (2.32.3)\n",
            "Requirement already satisfied: numpy>=1.14.0 in /usr/local/lib/python3.11/dist-packages (from deepface) (1.26.4)\n",
            "Requirement already satisfied: pandas>=0.23.4 in /usr/local/lib/python3.11/dist-packages (from deepface) (2.2.2)\n",
            "Requirement already satisfied: gdown>=3.10.1 in /usr/local/lib/python3.11/dist-packages (from deepface) (5.2.0)\n",
            "Requirement already satisfied: tqdm>=4.30.0 in /usr/local/lib/python3.11/dist-packages (from deepface) (4.67.1)\n",
            "Requirement already satisfied: Pillow>=5.2.0 in /usr/local/lib/python3.11/dist-packages (from deepface) (11.1.0)\n",
            "Requirement already satisfied: opencv-python>=4.5.5.64 in /usr/local/lib/python3.11/dist-packages (from deepface) (4.11.0.86)\n",
            "Requirement already satisfied: tensorflow>=1.9.0 in /usr/local/lib/python3.11/dist-packages (from deepface) (2.18.0)\n",
            "Requirement already satisfied: keras>=2.2.0 in /usr/local/lib/python3.11/dist-packages (from deepface) (3.8.0)\n",
            "Requirement already satisfied: Flask>=1.1.2 in /usr/local/lib/python3.11/dist-packages (from deepface) (3.1.0)\n",
            "Collecting flask-cors>=4.0.1 (from deepface)\n",
            "  Downloading flask_cors-5.0.1-py3-none-any.whl.metadata (961 bytes)\n",
            "Collecting mtcnn>=0.1.0 (from deepface)\n",
            "  Downloading mtcnn-1.0.0-py3-none-any.whl.metadata (5.8 kB)\n",
            "Collecting retina-face>=0.0.1 (from deepface)\n",
            "  Downloading retina_face-0.0.17-py3-none-any.whl.metadata (10 kB)\n",
            "Collecting fire>=0.4.0 (from deepface)\n",
            "  Downloading fire-0.7.0.tar.gz (87 kB)\n",
            "\u001b[2K     \u001b[90m━━━━━━━━━━━━━━━━━━━━━━━━━━━━━━━━━━━━━━━━\u001b[0m \u001b[32m87.2/87.2 kB\u001b[0m \u001b[31m9.0 MB/s\u001b[0m eta \u001b[36m0:00:00\u001b[0m\n",
            "\u001b[?25h  Preparing metadata (setup.py) ... \u001b[?25l\u001b[?25hdone\n",
            "Collecting gunicorn>=20.1.0 (from deepface)\n",
            "  Downloading gunicorn-23.0.0-py3-none-any.whl.metadata (4.4 kB)\n",
            "Requirement already satisfied: contourpy>=1.0.1 in /usr/local/lib/python3.11/dist-packages (from matplotlib) (1.3.1)\n",
            "Requirement already satisfied: cycler>=0.10 in /usr/local/lib/python3.11/dist-packages (from matplotlib) (0.12.1)\n",
            "Requirement already satisfied: fonttools>=4.22.0 in /usr/local/lib/python3.11/dist-packages (from matplotlib) (4.56.0)\n",
            "Requirement already satisfied: kiwisolver>=1.3.1 in /usr/local/lib/python3.11/dist-packages (from matplotlib) (1.4.8)\n",
            "Requirement already satisfied: packaging>=20.0 in /usr/local/lib/python3.11/dist-packages (from matplotlib) (24.2)\n",
            "Requirement already satisfied: pyparsing>=2.3.1 in /usr/local/lib/python3.11/dist-packages (from matplotlib) (3.2.1)\n",
            "Requirement already satisfied: python-dateutil>=2.7 in /usr/local/lib/python3.11/dist-packages (from matplotlib) (2.8.2)\n",
            "Requirement already satisfied: termcolor in /usr/local/lib/python3.11/dist-packages (from fire>=0.4.0->deepface) (2.5.0)\n",
            "Requirement already satisfied: Werkzeug>=3.1 in /usr/local/lib/python3.11/dist-packages (from Flask>=1.1.2->deepface) (3.1.3)\n",
            "Requirement already satisfied: Jinja2>=3.1.2 in /usr/local/lib/python3.11/dist-packages (from Flask>=1.1.2->deepface) (3.1.5)\n",
            "Requirement already satisfied: itsdangerous>=2.2 in /usr/local/lib/python3.11/dist-packages (from Flask>=1.1.2->deepface) (2.2.0)\n",
            "Requirement already satisfied: click>=8.1.3 in /usr/local/lib/python3.11/dist-packages (from Flask>=1.1.2->deepface) (8.1.8)\n",
            "Requirement already satisfied: blinker>=1.9 in /usr/local/lib/python3.11/dist-packages (from Flask>=1.1.2->deepface) (1.9.0)\n",
            "Requirement already satisfied: beautifulsoup4 in /usr/local/lib/python3.11/dist-packages (from gdown>=3.10.1->deepface) (4.13.3)\n",
            "Requirement already satisfied: filelock in /usr/local/lib/python3.11/dist-packages (from gdown>=3.10.1->deepface) (3.17.0)\n",
            "Requirement already satisfied: absl-py in /usr/local/lib/python3.11/dist-packages (from keras>=2.2.0->deepface) (1.4.0)\n",
            "Requirement already satisfied: rich in /usr/local/lib/python3.11/dist-packages (from keras>=2.2.0->deepface) (13.9.4)\n",
            "Requirement already satisfied: namex in /usr/local/lib/python3.11/dist-packages (from keras>=2.2.0->deepface) (0.0.8)\n",
            "Requirement already satisfied: h5py in /usr/local/lib/python3.11/dist-packages (from keras>=2.2.0->deepface) (3.12.1)\n",
            "Requirement already satisfied: optree in /usr/local/lib/python3.11/dist-packages (from keras>=2.2.0->deepface) (0.14.0)\n",
            "Requirement already satisfied: ml-dtypes in /usr/local/lib/python3.11/dist-packages (from keras>=2.2.0->deepface) (0.4.1)\n",
            "Requirement already satisfied: joblib>=1.4.2 in /usr/local/lib/python3.11/dist-packages (from mtcnn>=0.1.0->deepface) (1.4.2)\n",
            "Collecting lz4>=4.3.3 (from mtcnn>=0.1.0->deepface)\n",
            "  Downloading lz4-4.4.3-cp311-cp311-manylinux_2_17_x86_64.manylinux2014_x86_64.whl.metadata (3.8 kB)\n",
            "Requirement already satisfied: pytz>=2020.1 in /usr/local/lib/python3.11/dist-packages (from pandas>=0.23.4->deepface) (2025.1)\n",
            "Requirement already satisfied: tzdata>=2022.7 in /usr/local/lib/python3.11/dist-packages (from pandas>=0.23.4->deepface) (2025.1)\n",
            "Requirement already satisfied: six>=1.5 in /usr/local/lib/python3.11/dist-packages (from python-dateutil>=2.7->matplotlib) (1.17.0)\n",
            "Requirement already satisfied: charset-normalizer<4,>=2 in /usr/local/lib/python3.11/dist-packages (from requests>=2.27.1->deepface) (3.4.1)\n",
            "Requirement already satisfied: idna<4,>=2.5 in /usr/local/lib/python3.11/dist-packages (from requests>=2.27.1->deepface) (3.10)\n",
            "Requirement already satisfied: urllib3<3,>=1.21.1 in /usr/local/lib/python3.11/dist-packages (from requests>=2.27.1->deepface) (2.3.0)\n",
            "Requirement already satisfied: certifi>=2017.4.17 in /usr/local/lib/python3.11/dist-packages (from requests>=2.27.1->deepface) (2025.1.31)\n",
            "Requirement already satisfied: astunparse>=1.6.0 in /usr/local/lib/python3.11/dist-packages (from tensorflow>=1.9.0->deepface) (1.6.3)\n",
            "Requirement already satisfied: flatbuffers>=24.3.25 in /usr/local/lib/python3.11/dist-packages (from tensorflow>=1.9.0->deepface) (25.2.10)\n",
            "Requirement already satisfied: gast!=0.5.0,!=0.5.1,!=0.5.2,>=0.2.1 in /usr/local/lib/python3.11/dist-packages (from tensorflow>=1.9.0->deepface) (0.6.0)\n",
            "Requirement already satisfied: google-pasta>=0.1.1 in /usr/local/lib/python3.11/dist-packages (from tensorflow>=1.9.0->deepface) (0.2.0)\n",
            "Requirement already satisfied: libclang>=13.0.0 in /usr/local/lib/python3.11/dist-packages (from tensorflow>=1.9.0->deepface) (18.1.1)\n",
            "Requirement already satisfied: opt-einsum>=2.3.2 in /usr/local/lib/python3.11/dist-packages (from tensorflow>=1.9.0->deepface) (3.4.0)\n",
            "Requirement already satisfied: protobuf!=4.21.0,!=4.21.1,!=4.21.2,!=4.21.3,!=4.21.4,!=4.21.5,<6.0.0dev,>=3.20.3 in /usr/local/lib/python3.11/dist-packages (from tensorflow>=1.9.0->deepface) (4.25.6)\n",
            "Requirement already satisfied: setuptools in /usr/local/lib/python3.11/dist-packages (from tensorflow>=1.9.0->deepface) (75.1.0)\n",
            "Requirement already satisfied: typing-extensions>=3.6.6 in /usr/local/lib/python3.11/dist-packages (from tensorflow>=1.9.0->deepface) (4.12.2)\n",
            "Requirement already satisfied: wrapt>=1.11.0 in /usr/local/lib/python3.11/dist-packages (from tensorflow>=1.9.0->deepface) (1.17.2)\n",
            "Requirement already satisfied: grpcio<2.0,>=1.24.3 in /usr/local/lib/python3.11/dist-packages (from tensorflow>=1.9.0->deepface) (1.70.0)\n",
            "Requirement already satisfied: tensorboard<2.19,>=2.18 in /usr/local/lib/python3.11/dist-packages (from tensorflow>=1.9.0->deepface) (2.18.0)\n",
            "Requirement already satisfied: tensorflow-io-gcs-filesystem>=0.23.1 in /usr/local/lib/python3.11/dist-packages (from tensorflow>=1.9.0->deepface) (0.37.1)\n",
            "Requirement already satisfied: wheel<1.0,>=0.23.0 in /usr/local/lib/python3.11/dist-packages (from astunparse>=1.6.0->tensorflow>=1.9.0->deepface) (0.45.1)\n",
            "Requirement already satisfied: MarkupSafe>=2.0 in /usr/local/lib/python3.11/dist-packages (from Jinja2>=3.1.2->Flask>=1.1.2->deepface) (3.0.2)\n",
            "Requirement already satisfied: markdown>=2.6.8 in /usr/local/lib/python3.11/dist-packages (from tensorboard<2.19,>=2.18->tensorflow>=1.9.0->deepface) (3.7)\n",
            "Requirement already satisfied: tensorboard-data-server<0.8.0,>=0.7.0 in /usr/local/lib/python3.11/dist-packages (from tensorboard<2.19,>=2.18->tensorflow>=1.9.0->deepface) (0.7.2)\n",
            "Requirement already satisfied: soupsieve>1.2 in /usr/local/lib/python3.11/dist-packages (from beautifulsoup4->gdown>=3.10.1->deepface) (2.6)\n",
            "Requirement already satisfied: PySocks!=1.5.7,>=1.5.6 in /usr/local/lib/python3.11/dist-packages (from requests[socks]->gdown>=3.10.1->deepface) (1.7.1)\n",
            "Requirement already satisfied: markdown-it-py>=2.2.0 in /usr/local/lib/python3.11/dist-packages (from rich->keras>=2.2.0->deepface) (3.0.0)\n",
            "Requirement already satisfied: pygments<3.0.0,>=2.13.0 in /usr/local/lib/python3.11/dist-packages (from rich->keras>=2.2.0->deepface) (2.18.0)\n",
            "Requirement already satisfied: mdurl~=0.1 in /usr/local/lib/python3.11/dist-packages (from markdown-it-py>=2.2.0->rich->keras>=2.2.0->deepface) (0.1.2)\n",
            "Downloading deepface-0.0.93-py3-none-any.whl (108 kB)\n",
            "\u001b[2K   \u001b[90m━━━━━━━━━━━━━━━━━━━━━━━━━━━━━━━━━━━━━━━━\u001b[0m \u001b[32m108.6/108.6 kB\u001b[0m \u001b[31m10.7 MB/s\u001b[0m eta \u001b[36m0:00:00\u001b[0m\n",
            "\u001b[?25hDownloading flask_cors-5.0.1-py3-none-any.whl (11 kB)\n",
            "Downloading gunicorn-23.0.0-py3-none-any.whl (85 kB)\n",
            "\u001b[2K   \u001b[90m━━━━━━━━━━━━━━━━━━━━━━━━━━━━━━━━━━━━━━━━\u001b[0m \u001b[32m85.0/85.0 kB\u001b[0m \u001b[31m9.6 MB/s\u001b[0m eta \u001b[36m0:00:00\u001b[0m\n",
            "\u001b[?25hDownloading mtcnn-1.0.0-py3-none-any.whl (1.9 MB)\n",
            "\u001b[2K   \u001b[90m━━━━━━━━━━━━━━━━━━━━━━━━━━━━━━━━━━━━━━━━\u001b[0m \u001b[32m1.9/1.9 MB\u001b[0m \u001b[31m59.1 MB/s\u001b[0m eta \u001b[36m0:00:00\u001b[0m\n",
            "\u001b[?25hDownloading retina_face-0.0.17-py3-none-any.whl (25 kB)\n",
            "Downloading lz4-4.4.3-cp311-cp311-manylinux_2_17_x86_64.manylinux2014_x86_64.whl (1.3 MB)\n",
            "\u001b[2K   \u001b[90m━━━━━━━━━━━━━━━━━━━━━━━━━━━━━━━━━━━━━━━━\u001b[0m \u001b[32m1.3/1.3 MB\u001b[0m \u001b[31m68.6 MB/s\u001b[0m eta \u001b[36m0:00:00\u001b[0m\n",
            "\u001b[?25hBuilding wheels for collected packages: fire\n",
            "  Building wheel for fire (setup.py) ... \u001b[?25l\u001b[?25hdone\n",
            "  Created wheel for fire: filename=fire-0.7.0-py3-none-any.whl size=114249 sha256=fbc4c4cc7b734641310799d2a51ba0561ed23fe4b58eefd56f29b12447bbcc46\n",
            "  Stored in directory: /root/.cache/pip/wheels/46/54/24/1624fd5b8674eb1188623f7e8e17cdf7c0f6c24b609dfb8a89\n",
            "Successfully built fire\n",
            "Installing collected packages: lz4, gunicorn, fire, mtcnn, flask-cors, retina-face, deepface\n",
            "Successfully installed deepface-0.0.93 fire-0.7.0 flask-cors-5.0.1 gunicorn-23.0.0 lz4-4.4.3 mtcnn-1.0.0 retina-face-0.0.17\n"
          ]
        }
      ],
      "source": [
        "!pip install deepface tf-keras matplotlib"
      ]
    },
    {
      "cell_type": "markdown",
      "source": [
        "## Library Install"
      ],
      "metadata": {
        "id": "dfzqRd8lqicB"
      }
    },
    {
      "cell_type": "code",
      "source": [
        "from deepface import DeepFace\n",
        "from retinaface import RetinaFace"
      ],
      "metadata": {
        "id": "jSR6O075WeWX",
        "colab": {
          "base_uri": "https://localhost:8080/"
        },
        "outputId": "3fd73d6f-daa2-4aec-d7ac-dba439ff3d2c"
      },
      "execution_count": 2,
      "outputs": [
        {
          "output_type": "stream",
          "name": "stdout",
          "text": [
            "25-02-28 02:19:13 - Directory /root/.deepface has been created\n",
            "25-02-28 02:19:13 - Directory /root/.deepface/weights has been created\n"
          ]
        }
      ]
    },
    {
      "cell_type": "code",
      "source": [
        "import cv2\n",
        "import matplotlib.pyplot as plt\n",
        "from PIL import Image, ImageDraw\n",
        "import glob"
      ],
      "metadata": {
        "id": "0wKrK0FqMP2V"
      },
      "execution_count": 3,
      "outputs": []
    },
    {
      "cell_type": "code",
      "source": [
        "import json"
      ],
      "metadata": {
        "id": "k87vl5xNuHFH"
      },
      "execution_count": 4,
      "outputs": []
    },
    {
      "cell_type": "markdown",
      "source": [
        "Use Google Colab"
      ],
      "metadata": {
        "id": "MnhqkD_FrDzf"
      }
    },
    {
      "cell_type": "code",
      "source": [
        "from google.colab import drive\n",
        "\n",
        "drive.mount('/content/gdrive')\n",
        "ROOT_DIR = \"/content/gdrive/MyDrive/Colab Notebooks/FR_Project/\""
      ],
      "metadata": {
        "id": "mgAvVTNWp7zM",
        "outputId": "d48fdc10-08c7-4a76-d423-cff99bb545dc",
        "colab": {
          "base_uri": "https://localhost:8080/"
        }
      },
      "execution_count": 5,
      "outputs": [
        {
          "output_type": "stream",
          "name": "stdout",
          "text": [
            "Mounted at /content/gdrive\n"
          ]
        }
      ]
    },
    {
      "cell_type": "markdown",
      "source": [
        "# Main Logic"
      ],
      "metadata": {
        "id": "sHiZe3r0rINl"
      }
    },
    {
      "cell_type": "markdown",
      "source": [
        "## File structure"
      ],
      "metadata": {
        "id": "gghA3MP61i12"
      }
    },
    {
      "cell_type": "code",
      "source": [
        "from pathlib import Path\n",
        "import shutil\n",
        "\n",
        "\n",
        "def mkdir(p):\n",
        "  Path(p).mkdir(parents=True, exist_ok=True)\n"
      ],
      "metadata": {
        "id": "oHFPxbeo2dey"
      },
      "execution_count": 6,
      "outputs": []
    },
    {
      "cell_type": "code",
      "source": [
        "SOURCE_DIR = f\"{ROOT_DIR}Raw_Image_Source\"\n",
        "PROCESSED_IMAGE_TXT = f\"Processed.txt\"\n",
        "\n",
        "score_index_list = {}\n",
        "non_face_list = []"
      ],
      "metadata": {
        "id": "0I6iB-f_1naS"
      },
      "execution_count": 7,
      "outputs": []
    },
    {
      "cell_type": "code",
      "source": [
        "DRIVE_OUTPUT = False\n",
        "\n",
        "if DRIVE_OUTPUT:\n",
        "  FACES_INDEX = f\"{ROOT_DIR}Faces_Index\"\n",
        "  FACES_DIR = f\"{ROOT_DIR}Faces\"\n",
        "  NON_FACES_LIST_PATH = f\"{ROOT_DIR}Non_Faces.txt\"\n",
        "  SCORE_INDEX_LIST_PATH = f\"{FACES_INDEX}/score_index_list.json\"\n",
        "else:\n",
        "  FACES_INDEX = f\"Faces_Index\"\n",
        "  FACES_DIR = f\"Faces\"\n",
        "  NON_FACES_LIST_PATH = f\"Non_Faces.txt\"\n",
        "  SCORE_INDEX_LIST_PATH = f\"{FACES_INDEX}/score_index_list.json\"\n",
        "\n",
        "# TEMP_DIR = \"Temp\"\n",
        "mkdir(FACES_INDEX)\n",
        "mkdir(FACES_DIR)\n",
        "# mkdir(TEMP_DIR)\n",
        "\n",
        "def write_processed(img_path):\n",
        "  with open(PROCESSED_IMAGE_TXT, \"a+\") as txt_file:\n",
        "    txt_file.writelines(img_path + \"\\n\")\n"
      ],
      "metadata": {
        "id": "DPYzr9EK2tNi"
      },
      "execution_count": 8,
      "outputs": []
    },
    {
      "cell_type": "markdown",
      "source": [
        "Init JSON score index list"
      ],
      "metadata": {
        "id": "XXLVXkJIuRYb"
      }
    },
    {
      "cell_type": "code",
      "source": [
        "def init_score_index():\n",
        "  if not Path(SCORE_INDEX_LIST_PATH).is_file():\n",
        "    score_index_list = {}\n",
        "    with open(SCORE_INDEX_LIST_PATH, 'w') as f:\n",
        "          json.dump({}, f)\n",
        "\n",
        "  with open(SCORE_INDEX_LIST_PATH, 'r+') as f:\n",
        "      score_index_list = json.load(f)"
      ],
      "metadata": {
        "id": "WgUiAeA3uOAz"
      },
      "execution_count": 9,
      "outputs": []
    },
    {
      "cell_type": "code",
      "source": [
        "def init_dummy():\n",
        "  img = Image.new('RGB',(480,640),\"rgb(255,255,255)\")\n",
        "  img.save(f\"{FACES_INDEX}/dummy.jpg\")"
      ],
      "metadata": {
        "id": "DVJFDT4hFy7s"
      },
      "execution_count": 10,
      "outputs": []
    },
    {
      "cell_type": "code",
      "source": [
        "def read_nonface_list():\n",
        "  if not Path(NON_FACES_LIST_PATH).is_file():\n",
        "    non_face_list = []\n",
        "  else:\n",
        "    with open(NON_FACES_LIST_PATH, \"r\") as f:\n",
        "      non_face_list = [l.replace(\"\\n\", \"\") for l in f.readlines()]\n",
        "\n",
        "\n",
        "def write_to_nonface_list(img_path):\n",
        "  global non_face_list\n",
        "  if not Path(NON_FACES_LIST_PATH).is_file():\n",
        "    non_face_list = []\n",
        "\n",
        "  with open(NON_FACES_LIST_PATH, \"a+\") as f:\n",
        "    f.writelines(img_path + \"\\n\")\n",
        "\n",
        "  non_face_list.append(img_path)"
      ],
      "metadata": {
        "id": "eyDsoG9BWL9v"
      },
      "execution_count": 22,
      "outputs": []
    },
    {
      "cell_type": "markdown",
      "source": [
        "## **Function:** Image view with PIL\n",
        "\n",
        "drawImageWithPlot( image_Path, param, save_crop=False, *, show_img=False )\n",
        "\n",
        "---\n",
        "\n",
        "> param: {\n",
        "  \"face_area_1\": {\n",
        "    facial_area: [x, y, w, h],\n",
        "    ...\n",
        "  },\n",
        "  \"face_area_2\": {\n",
        "    facial_area: [x, y, w, h],\n",
        "    ...\n",
        "  }, ...\n",
        "}"
      ],
      "metadata": {
        "id": "T7Mfzj_6rZd3"
      }
    },
    {
      "cell_type": "code",
      "source": [
        "def plt_show_img(imgs: list) -> None:\n",
        "  imgs_count = len(imgs)\n",
        "  for i in range(imgs_count):\n",
        "    ax = plt.subplot(1, imgs_count, i+1)\n",
        "    ax.imshow(imgs[i])\n",
        "    ax.set_xticks([])\n",
        "    ax.set_yticks([])\n",
        "  plt.tight_layout(h_pad=3)\n",
        "  plt.show()\n",
        "\n",
        "def drawImageWithPlot(img_path, param, save_crop=False, *, show_img=False):\n",
        "  im = Image.open(img_path)\n",
        "  crop_array = []\n",
        "  crop_len = len(crop_array)\n",
        "  crop_count = 0\n",
        "\n",
        "  draw_img_grid = []\n",
        "\n",
        "  for key in param:\n",
        "    rect = param[key]['facial_area']\n",
        "    x, y, w, h = rect\n",
        "\n",
        "    if save_crop > 0:\n",
        "      im_crop = im.crop((x-100, y-100, w+100, h+100))\n",
        "      save_path = crop_array[crop_count] if crop_count < crop_len else f\"{FACES_DIR}/saved_crop_{crop_count}.jpg\"\n",
        "      im_crop.save(save_path)\n",
        "      crop_count = crop_count + 1\n",
        "\n",
        "    border_width = int(min(w-x, h-y) / 15)\n",
        "    border_width = max(border_width, 10)\n",
        "    border_width = min(border_width, 20)\n",
        "\n",
        "    draw_img_grid.append((x, y, w, h, border_width))\n",
        "    # draw = ImageDraw.Draw(im)\n",
        "    # draw.rectangle((x, y, w, h), outline=\"red\", width=border_width)\n",
        "\n",
        "  if show_img:\n",
        "    draw = ImageDraw.Draw(im)\n",
        "    for x, y, w, h, border_width in draw_img_grid:\n",
        "      draw.rectangle((x, y, w, h), outline=\"red\", width=border_width)\n",
        "    plt_show_img([im])"
      ],
      "metadata": {
        "id": "ewFFw0s8VoEm"
      },
      "execution_count": 12,
      "outputs": []
    },
    {
      "cell_type": "markdown",
      "source": [
        "## Function: Save Crop Image as Face_index"
      ],
      "metadata": {
        "id": "mua2H3ktLkDl"
      }
    },
    {
      "cell_type": "code",
      "source": [
        "# Model List\n",
        "# models_name = [\"VGG-Face\", \"Facenet\", \"Facenet512\", \"OpenFace\",\n",
        "#         \"DeepID\", \"ArcFace\", \"SFace\"]\n",
        "models_name = [\"Facenet512\", \"OpenFace\", \"DeepID\", \"SFace\"]"
      ],
      "metadata": {
        "id": "lVmn46FjvN_7"
      },
      "execution_count": 13,
      "outputs": []
    },
    {
      "cell_type": "code",
      "source": [
        "def gen_next_img_full_path():\n",
        "  i = 1\n",
        "  while True:\n",
        "    if f\"{FACES_INDEX}/person{i}.jpg\" not in score_index_list:\n",
        "      return f\"{FACES_INDEX}/person{i}.jpg\"\n",
        "    i = i + 1"
      ],
      "metadata": {
        "id": "YfvS2Y0A0eSo"
      },
      "execution_count": 14,
      "outputs": []
    },
    {
      "cell_type": "code",
      "source": [
        "def save_face(face_index, img_path, crop_img = ''):\n",
        "  face_path = f'{FACES_DIR}/{face_index}'\n",
        "  mkdir(face_path)\n",
        "  copied_path = shutil.copy(img_path, face_path)\n",
        "\n",
        "  if crop_img:\n",
        "    shutil.copy(crop_img, f\"{copied_path[:-4]}_Crop.jpg\")\n",
        ""
      ],
      "metadata": {
        "id": "HbFQNZSPW2Sl"
      },
      "execution_count": 77,
      "outputs": []
    },
    {
      "cell_type": "code",
      "source": [
        "# True: replace\n",
        "# False: index no change\n",
        "def check_new_index_file(img_name, score) -> bool:\n",
        "  if img_name not in score_index_list:\n",
        "    return True\n",
        "  curr_score = score_index_list[img_name]\n",
        "  return curr_score < score\n",
        "\n",
        "def check_face_index(img_path, param):\n",
        "  im = Image.open(img_path)\n",
        "  found_person = [f'{FACES_INDEX}/dummy.jpg'] # two person will not appear in same image\n",
        "  image_valid = False\n",
        "\n",
        "  for key in param:\n",
        "    score = param[key]['score']\n",
        "    rect = param[key]['facial_area']\n",
        "    x, y, w, h = rect\n",
        "    total_width = w - x\n",
        "    total_height = h - y\n",
        "\n",
        "    im_crop = im.crop((x - total_width*0.3, y - total_height*0.4, w + total_width*0.3, h + total_height*0.4))\n",
        "\n",
        "    # filter too small images\n",
        "    if w - x <= 30 or h - y <= 30:\n",
        "      print(f\"image too small: {rect}\")\n",
        "      continue\n",
        "\n",
        "    # filter score too low?\n",
        "    if score < 0.96:\n",
        "      print(f\"score too low: {score}\")\n",
        "      continue\n",
        "\n",
        "    save_path = f\"Crop_Image_Temp.jpg\"\n",
        "    im_crop.save(save_path)\n",
        "\n",
        "    match_res = []\n",
        "    match_model = []\n",
        "    result = DeepFace.find(img_path=save_path, db_path=FACES_INDEX, enforce_detection=False, silent=True)\n",
        "    for res in result:\n",
        "      if res.empty: continue\n",
        "      r = res[\"identity\"][0]\n",
        "      if r not in match_res:\n",
        "        match_res.append(r)\n",
        "      match_model.append(x)\n",
        "\n",
        "    print(f\"Image Score: {score}\")\n",
        "    print(f\"Matched: {match_res}\")\n",
        "    print(f\"Reported by: {match_model}\")\n",
        "    found_img_full_path = ''\n",
        "\n",
        "    for r in match_res:\n",
        "      if r in found_person: continue\n",
        "      obj = DeepFace.verify(img1_path = r, img2_path = save_path, detector_backend = 'retinaface', enforce_detection=False)\n",
        "      print(obj)\n",
        "      if obj[\"verified\"]:\n",
        "        found_img_full_path = r\n",
        "        break\n",
        "    if not found_img_full_path:\n",
        "      found_img_full_path = gen_next_img_full_path()\n",
        "    face_key = found_img_full_path.split('/')[-1].replace(\".jpg\", '')\n",
        "\n",
        "    if check_new_index_file(found_img_full_path, score):\n",
        "      if found_img_full_path in score_index_list:\n",
        "        print(f\"Replacing {found_img_full_path} from {score_index_list[found_img_full_path]} -> {score}\")\n",
        "      else:\n",
        "        print(f\"New Person: {found_img_full_path} with score {score}\")\n",
        "\n",
        "      shutil.copy(save_path, f\"{found_img_full_path}\")\n",
        "      score_index_list[found_img_full_path] = score\n",
        "      with open(SCORE_INDEX_LIST_PATH, 'w') as f:\n",
        "        json.dump(score_index_list, f)\n",
        "\n",
        "      Path.unlink(f'{FACES_INDEX}/dummy.jpg', True)\n",
        "\n",
        "    save_face(face_key, img_path, save_path)\n",
        "    Path.unlink(save_path, True)\n",
        "    found_person.append(found_img_full_path)\n",
        "    image_valid = True\n",
        "    print()\n",
        "\n",
        "  return image_valid"
      ],
      "metadata": {
        "id": "cYAEyAvDLi0Q"
      },
      "execution_count": 87,
      "outputs": []
    },
    {
      "cell_type": "markdown",
      "source": [
        "## Image Analyze"
      ],
      "metadata": {
        "id": "HZ1P04TIuGNe"
      }
    },
    {
      "cell_type": "code",
      "source": [
        "def reset_file_structure():\n",
        "  global score_index_list\n",
        "\n",
        "  shutil.rmtree(FACES_DIR, ignore_errors=True)\n",
        "  score_index_list = {}\n",
        "  index_list = glob.glob(f\"{FACES_INDEX}/*.jpg\")\n",
        "  for jpg in index_list:\n",
        "    Path.unlink(jpg)\n",
        "  Path.unlink(SCORE_INDEX_LIST_PATH)\n",
        "  Path.unlink(PROCESSED_IMAGE_TXT)\n",
        "\n",
        "  mkdir(FACES_DIR)\n",
        "\n",
        "reset_file_structure()"
      ],
      "metadata": {
        "id": "YLvFIcwGfQoy"
      },
      "execution_count": 79,
      "outputs": []
    },
    {
      "cell_type": "code",
      "source": [
        "init_score_index()\n",
        "init_dummy()\n",
        "image_list = glob.glob(f\"{SOURCE_DIR}/*.jpg\")\n",
        "\n",
        "Path(PROCESSED_IMAGE_TXT).touch(exist_ok=True)\n",
        "with open(NON_FACES_LIST_PATH, \"r\") as txt_file:\n",
        "  lines = txt_file.readlines()\n",
        "\n",
        "for x in lines:\n",
        "  image_list.remove(x.replace(\"\\n\", ''))\n",
        "\n",
        "with open(PROCESSED_IMAGE_TXT, \"r\") as txt_file:\n",
        "  lines = txt_file.readlines()\n",
        "\n",
        "for x in lines:\n",
        "  try:\n",
        "    image_list.remove(x.replace(\"\\n\", ''))\n",
        "  except:\n",
        "    pass"
      ],
      "metadata": {
        "id": "4WpDHGKdP5y2"
      },
      "execution_count": 80,
      "outputs": []
    },
    {
      "cell_type": "code",
      "source": [
        "for img_path in image_list:\n",
        "  resp = RetinaFace.detect_faces(img_path)\n",
        "\n",
        "  write_processed(img_path)\n",
        "  image_list.remove(img_path)\n",
        "  # drawImageWithPlot(img_path, resp, True, False)\n",
        "  if resp:\n",
        "    if check_face_index(img_path, resp):\n",
        "      break\n",
        "  else:\n",
        "    write_to_nonface_list(img_path)"
      ],
      "metadata": {
        "id": "oEtTIRM_432n"
      },
      "execution_count": null,
      "outputs": []
    },
    {
      "cell_type": "code",
      "source": [
        "drawImageWithPlot(img_path, resp, False, show_img=True)"
      ],
      "metadata": {
        "id": "_LDsgRA3ASko"
      },
      "execution_count": null,
      "outputs": []
    },
    {
      "cell_type": "code",
      "source": [],
      "metadata": {
        "id": "u8zOBCQmT8fk"
      },
      "execution_count": null,
      "outputs": []
    },
    {
      "cell_type": "markdown",
      "source": [
        "# Testing Area"
      ],
      "metadata": {
        "id": "KctpCGjKszf3"
      }
    },
    {
      "cell_type": "code",
      "source": [
        "# face_objs = DeepFace.extract_faces(\n",
        "#   img_path = \"test.jpg\",\n",
        "#   detector_backend = \"dlib\",\n",
        "#   align = True,\n",
        "# )\n",
        "# face_objs"
      ],
      "metadata": {
        "id": "TnP5NcoiAPXa"
      },
      "execution_count": null,
      "outputs": []
    },
    {
      "cell_type": "code",
      "source": [
        "# img = cv2.imread('test.jpg')\n",
        "# plt.imshow(img[:, :, ::-1])"
      ],
      "metadata": {
        "id": "9kFch5DqS8fe"
      },
      "execution_count": null,
      "outputs": []
    },
    {
      "cell_type": "code",
      "source": [
        "# type(face_objs)"
      ],
      "metadata": {
        "id": "iXfuRpjcTU0R"
      },
      "execution_count": null,
      "outputs": []
    },
    {
      "cell_type": "code",
      "source": [
        "# analyze one image\n",
        "# img_path = \"test2.jpg\"\n",
        "# resp = RetinaFace.detect_faces(img_path)"
      ],
      "metadata": {
        "id": "qv46pjbQWiXp"
      },
      "execution_count": null,
      "outputs": []
    },
    {
      "cell_type": "code",
      "source": [
        "# output image\n",
        "# drawImageWithPlot(img_path, resp, True)"
      ],
      "metadata": {
        "id": "udn1u22wWqCG"
      },
      "execution_count": null,
      "outputs": []
    },
    {
      "cell_type": "code",
      "source": [
        "# result = DeepFace.find(img_path=\"saved_crop_0.jpg\", db_path=\"find_image\", model_name=\"VGG-Face\", enforce_detection=False, silent=True)"
      ],
      "metadata": {
        "id": "N9m3vzCC7Jzr"
      },
      "execution_count": null,
      "outputs": []
    },
    {
      "cell_type": "code",
      "source": [
        "# print(result)"
      ],
      "metadata": {
        "id": "95L6tjug_cWf"
      },
      "execution_count": null,
      "outputs": []
    }
  ],
  "metadata": {
    "colab": {
      "provenance": [],
      "machine_shape": "hm",
      "gpuType": "L4"
    },
    "kernelspec": {
      "display_name": "Python 3",
      "name": "python3"
    },
    "language_info": {
      "name": "python"
    },
    "accelerator": "GPU"
  },
  "nbformat": 4,
  "nbformat_minor": 0
}