{
  "cells": [
    {
      "cell_type": "markdown",
      "source": [
        "# Library Import"
      ],
      "metadata": {
        "id": "CNXBblJSp8hf"
      }
    },
    {
      "cell_type": "code",
      "execution_count": null,
      "metadata": {
        "id": "dlFSOnD8-7ml"
      },
      "outputs": [],
      "source": [
        "!pip install deepface tf-keras matplotlib"
      ]
    },
    {
      "cell_type": "markdown",
      "source": [
        "## Library Install"
      ],
      "metadata": {
        "id": "dfzqRd8lqicB"
      }
    },
    {
      "cell_type": "code",
      "source": [
        "from deepface import DeepFace\n",
        "from retinaface import RetinaFace"
      ],
      "metadata": {
        "id": "jSR6O075WeWX"
      },
      "execution_count": 2,
      "outputs": []
    },
    {
      "cell_type": "code",
      "source": [
        "import cv2\n",
        "import matplotlib.pyplot as plt\n",
        "from PIL import Image, ImageDraw\n",
        "import glob"
      ],
      "metadata": {
        "id": "0wKrK0FqMP2V"
      },
      "execution_count": 3,
      "outputs": []
    },
    {
      "cell_type": "code",
      "source": [
        "import json\n",
        "import random"
      ],
      "metadata": {
        "id": "k87vl5xNuHFH"
      },
      "execution_count": 32,
      "outputs": []
    },
    {
      "cell_type": "markdown",
      "source": [
        "Use Google Colab"
      ],
      "metadata": {
        "id": "MnhqkD_FrDzf"
      }
    },
    {
      "cell_type": "code",
      "source": [
        "from google.colab import drive\n",
        "\n",
        "drive.mount('/content/gdrive')\n",
        "ROOT_DIR = \"/content/gdrive/MyDrive/Colab Notebooks/FR_Project/\""
      ],
      "metadata": {
        "id": "mgAvVTNWp7zM",
        "outputId": "c6a0d482-fd66-4111-c9b3-8a8fe7dec03a",
        "colab": {
          "base_uri": "https://localhost:8080/"
        }
      },
      "execution_count": 5,
      "outputs": [
        {
          "output_type": "stream",
          "name": "stdout",
          "text": [
            "Drive already mounted at /content/gdrive; to attempt to forcibly remount, call drive.mount(\"/content/gdrive\", force_remount=True).\n"
          ]
        }
      ]
    },
    {
      "cell_type": "markdown",
      "source": [
        "# Main Logic"
      ],
      "metadata": {
        "id": "sHiZe3r0rINl"
      }
    },
    {
      "cell_type": "markdown",
      "source": [
        "## File structure"
      ],
      "metadata": {
        "id": "gghA3MP61i12"
      }
    },
    {
      "cell_type": "code",
      "source": [
        "from pathlib import Path\n",
        "import shutil\n",
        "\n",
        "\n",
        "def mkdir(p):\n",
        "  Path(p).mkdir(parents=True, exist_ok=True)\n"
      ],
      "metadata": {
        "id": "oHFPxbeo2dey"
      },
      "execution_count": 6,
      "outputs": []
    },
    {
      "cell_type": "code",
      "source": [
        "SOURCE_DIR = f\"{ROOT_DIR}Raw_Image_Source\"\n",
        "PROCESSED_IMAGE_TXT = f\"Processed.txt\"\n",
        "\n",
        "score_index_list = {}\n",
        "non_face_list = []"
      ],
      "metadata": {
        "id": "0I6iB-f_1naS"
      },
      "execution_count": 7,
      "outputs": []
    },
    {
      "cell_type": "code",
      "source": [
        "DRIVE_OUTPUT = False\n",
        "\n",
        "if DRIVE_OUTPUT:\n",
        "  FACES_INDEX = f\"{ROOT_DIR}Faces_Index\"\n",
        "  FACES_DIR = f\"{ROOT_DIR}Faces\"\n",
        "  SCORE_INDEX_LIST_PATH = f\"{FACES_INDEX}/score_index_list.json\"\n",
        "else:\n",
        "  FACES_INDEX = f\"Faces_Index\"\n",
        "  FACES_DIR = f\"Faces\"\n",
        "  SCORE_INDEX_LIST_PATH = f\"{FACES_INDEX}/score_index_list.json\"\n",
        "\n",
        "NON_FACES_LIST_PATH = f\"{ROOT_DIR}Non_Faces.txt\"\n",
        "# TEMP_DIR = \"Temp\"\n",
        "mkdir(FACES_INDEX)\n",
        "mkdir(FACES_DIR)\n",
        "# mkdir(TEMP_DIR)\n",
        "\n",
        "def write_processed(img_path):\n",
        "  with open(PROCESSED_IMAGE_TXT, \"a+\") as txt_file:\n",
        "    txt_file.writelines(img_path + \"\\n\")\n"
      ],
      "metadata": {
        "id": "DPYzr9EK2tNi"
      },
      "execution_count": 8,
      "outputs": []
    },
    {
      "cell_type": "markdown",
      "source": [
        "Init JSON score index list"
      ],
      "metadata": {
        "id": "XXLVXkJIuRYb"
      }
    },
    {
      "cell_type": "code",
      "source": [
        "def init_score_index():\n",
        "  if not Path(SCORE_INDEX_LIST_PATH).is_file():\n",
        "    score_index_list = {}\n",
        "    with open(SCORE_INDEX_LIST_PATH, 'w') as f:\n",
        "          json.dump({}, f)\n",
        "\n",
        "  with open(SCORE_INDEX_LIST_PATH, 'r+') as f:\n",
        "      score_index_list = json.load(f)"
      ],
      "metadata": {
        "id": "WgUiAeA3uOAz"
      },
      "execution_count": 9,
      "outputs": []
    },
    {
      "cell_type": "code",
      "source": [
        "def init_dummy():\n",
        "  img = Image.new('RGB',(480,640),\"rgb(255,255,255)\")\n",
        "  img.save(f\"{FACES_INDEX}/dummy.jpg\")"
      ],
      "metadata": {
        "id": "DVJFDT4hFy7s"
      },
      "execution_count": 10,
      "outputs": []
    },
    {
      "cell_type": "code",
      "source": [
        "def read_nonface_list():\n",
        "  if not Path(NON_FACES_LIST_PATH).is_file():\n",
        "    non_face_list = []\n",
        "  else:\n",
        "    with open(NON_FACES_LIST_PATH, \"r\") as f:\n",
        "      non_face_list = [l.replace(\"\\n\", \"\") for l in f.readlines()]\n",
        "\n",
        "\n",
        "def write_to_nonface_list(img_path):\n",
        "  global non_face_list\n",
        "  if not Path(NON_FACES_LIST_PATH).is_file():\n",
        "    non_face_list = []\n",
        "\n",
        "  with open(NON_FACES_LIST_PATH, \"a+\") as f:\n",
        "    f.writelines(img_path + \"\\n\")\n",
        "\n",
        "  non_face_list.append(img_path)"
      ],
      "metadata": {
        "id": "eyDsoG9BWL9v"
      },
      "execution_count": 11,
      "outputs": []
    },
    {
      "cell_type": "markdown",
      "source": [
        "## **Function:** Image view with PIL\n",
        "\n",
        "drawImageWithPlot( image_Path, param, save_crop=False, *, show_img=False )\n",
        "\n",
        "---\n",
        "\n",
        "> param: {\n",
        "  \"face_area_1\": {\n",
        "    facial_area: [x, y, w, h],\n",
        "    ...\n",
        "  },\n",
        "  \"face_area_2\": {\n",
        "    facial_area: [x, y, w, h],\n",
        "    ...\n",
        "  }, ...\n",
        "}"
      ],
      "metadata": {
        "id": "T7Mfzj_6rZd3"
      }
    },
    {
      "cell_type": "code",
      "source": [
        "def plt_show_img(imgs: list) -> None:\n",
        "  imgs_count = len(imgs)\n",
        "  for i in range(imgs_count):\n",
        "    ax = plt.subplot(1, imgs_count, i+1)\n",
        "    ax.imshow(imgs[i])\n",
        "    ax.set_xticks([])\n",
        "    ax.set_yticks([])\n",
        "  plt.tight_layout(h_pad=3)\n",
        "  plt.show()\n",
        "\n",
        "def drawImageWithPlot(img_path, param, save_crop=False, *, show_img=False):\n",
        "  im = Image.open(img_path)\n",
        "  crop_array = []\n",
        "  crop_len = len(crop_array)\n",
        "  crop_count = 0\n",
        "\n",
        "  draw_img_grid = []\n",
        "\n",
        "  for key in param:\n",
        "    rect = param[key]['facial_area']\n",
        "    x, y, w, h = rect\n",
        "\n",
        "    if save_crop > 0:\n",
        "      im_crop = im.crop((x-100, y-100, w+100, h+100))\n",
        "      save_path = crop_array[crop_count] if crop_count < crop_len else f\"{FACES_DIR}/saved_crop_{crop_count}.jpg\"\n",
        "      im_crop.save(save_path)\n",
        "      crop_count = crop_count + 1\n",
        "\n",
        "    border_width = int(min(w-x, h-y) / 15)\n",
        "    border_width = max(border_width, 10)\n",
        "    border_width = min(border_width, 20)\n",
        "\n",
        "    draw_img_grid.append((x, y, w, h, border_width))\n",
        "    # draw = ImageDraw.Draw(im)\n",
        "    # draw.rectangle((x, y, w, h), outline=\"red\", width=border_width)\n",
        "\n",
        "  if show_img:\n",
        "    draw = ImageDraw.Draw(im)\n",
        "    for x, y, w, h, border_width in draw_img_grid:\n",
        "      draw.rectangle((x, y, w, h), outline=\"red\", width=border_width)\n",
        "    plt_show_img([im])"
      ],
      "metadata": {
        "id": "ewFFw0s8VoEm"
      },
      "execution_count": 12,
      "outputs": []
    },
    {
      "cell_type": "markdown",
      "source": [
        "## Function: Save Crop Image as Face_index"
      ],
      "metadata": {
        "id": "mua2H3ktLkDl"
      }
    },
    {
      "cell_type": "code",
      "source": [
        "# Model List\n",
        "# models_name = [\"VGG-Face\", \"Facenet\", \"Facenet512\", \"OpenFace\",\n",
        "#         \"DeepID\", \"ArcFace\", \"SFace\"]\n",
        "models_name = [\"Facenet512\", \"OpenFace\", \"DeepID\", \"SFace\"]"
      ],
      "metadata": {
        "id": "lVmn46FjvN_7"
      },
      "execution_count": 13,
      "outputs": []
    },
    {
      "cell_type": "code",
      "source": [
        "def gen_next_img_full_path():\n",
        "  i = 1\n",
        "  while True:\n",
        "    if f\"{FACES_INDEX}/person{i}.jpg\" not in score_index_list:\n",
        "      return f\"{FACES_INDEX}/person{i}.jpg\"\n",
        "    i = i + 1"
      ],
      "metadata": {
        "id": "YfvS2Y0A0eSo"
      },
      "execution_count": 14,
      "outputs": []
    },
    {
      "cell_type": "code",
      "source": [
        "def save_face(face_index, img_path, crop_img = ''):\n",
        "  face_path = f'{FACES_DIR}/{face_index}'\n",
        "  mkdir(face_path)\n",
        "  copied_path = shutil.copy(img_path, face_path)\n",
        "\n",
        "  if crop_img:\n",
        "    shutil.copy(crop_img, f\"{copied_path[:-4]}_Crop.jpg\")\n",
        ""
      ],
      "metadata": {
        "id": "HbFQNZSPW2Sl"
      },
      "execution_count": 15,
      "outputs": []
    },
    {
      "cell_type": "code",
      "source": [
        "# True: replace\n",
        "# False: index no change\n",
        "def check_new_index_file(img_name, score) -> bool:\n",
        "  if img_name not in score_index_list:\n",
        "    return True\n",
        "  curr_score = score_index_list[img_name]\n",
        "  return curr_score < score\n",
        "\n",
        "def check_face_index(img_path, param, *, slient = True):\n",
        "  def print_log(*arg):\n",
        "    if not slient: print(arg)\n",
        "\n",
        "  im = Image.open(img_path)\n",
        "  found_person = [f'{FACES_INDEX}/dummy.jpg'] # two person will not appear in same image\n",
        "  image_valid = False\n",
        "\n",
        "  for key in param:\n",
        "    score = param[key]['score']\n",
        "    rect = param[key]['facial_area']\n",
        "    x, y, w, h = rect\n",
        "    total_width = w - x\n",
        "    total_height = h - y\n",
        "\n",
        "    im_crop = im.crop((x - total_width*0.3, y - total_height*0.4, w + total_width*0.3, h + total_height*0.4))\n",
        "\n",
        "    # filter too small images\n",
        "    if w - x <= 64 or h - y <= 64:\n",
        "      print_log(f\"image too small: {rect}\")\n",
        "      continue\n",
        "\n",
        "    # filter score too low?\n",
        "    if score < 0.96:\n",
        "      print_log(f\"score too low: {score}\")\n",
        "      continue\n",
        "\n",
        "    save_path = f\"Crop_Image_Temp.jpg\"\n",
        "    im_crop.save(save_path)\n",
        "\n",
        "    match_res = []\n",
        "    match_model = []\n",
        "    result = DeepFace.find(img_path=save_path, db_path=FACES_INDEX, enforce_detection=False, silent=True)\n",
        "    for res in result:\n",
        "      if res.empty: continue\n",
        "      r = res[\"identity\"][0]\n",
        "      if r not in match_res:\n",
        "        match_res.append(r)\n",
        "      match_model.append(x)\n",
        "\n",
        "    print_log(f\"Image Score: {score}\")\n",
        "    print_log(f\"Matched: {match_res}\")\n",
        "    print_log(f\"Reported by: {match_model}\")\n",
        "    found_img_full_path = ''\n",
        "    found_img_distance = 1.0\n",
        "\n",
        "    for r in match_res:\n",
        "      if r in found_person: continue\n",
        "      obj = DeepFace.verify(img1_path = r, img2_path = save_path,\n",
        "          model_name=\"Facenet512\" ,detector_backend = 'retinaface',\n",
        "          enforce_detection=False, threshold=0.6)\n",
        "      print_log(obj)\n",
        "      if obj[\"verified\"] and obj[\"distance\"] < found_img_distance:\n",
        "        found_img_full_path = r\n",
        "\n",
        "    if not found_img_full_path:\n",
        "      found_img_full_path = gen_next_img_full_path()\n",
        "    face_key = found_img_full_path.split('/')[-1].replace(\".jpg\", '')\n",
        "\n",
        "    if check_new_index_file(found_img_full_path, score):\n",
        "      if found_img_full_path in score_index_list:\n",
        "        print_log(f\"Replacing {found_img_full_path} from {score_index_list[found_img_full_path]} -> {score}\")\n",
        "      else:\n",
        "        print_log(f\"New Person: {found_img_full_path} with score {score}\")\n",
        "\n",
        "      shutil.copy(save_path, f\"{found_img_full_path}\")\n",
        "      score_index_list[found_img_full_path] = score\n",
        "      with open(SCORE_INDEX_LIST_PATH, 'w') as f:\n",
        "        json.dump(score_index_list, f)\n",
        "\n",
        "      Path.unlink(f'{FACES_INDEX}/dummy.jpg', True)\n",
        "\n",
        "    save_face(face_key, img_path, save_path)\n",
        "    Path.unlink(save_path, True)\n",
        "    found_person.append(found_img_full_path)\n",
        "    image_valid = True\n",
        "    print_log()\n",
        "\n",
        "  return image_valid"
      ],
      "metadata": {
        "id": "cYAEyAvDLi0Q"
      },
      "execution_count": 28,
      "outputs": []
    },
    {
      "cell_type": "markdown",
      "source": [
        "## Image Analyze"
      ],
      "metadata": {
        "id": "HZ1P04TIuGNe"
      }
    },
    {
      "cell_type": "code",
      "source": [
        "def reset_file_structure():\n",
        "  global score_index_list\n",
        "\n",
        "  shutil.rmtree(FACES_DIR, ignore_errors=True)\n",
        "  score_index_list = {}\n",
        "  index_list = glob.glob(f\"{FACES_INDEX}/*.jpg\")\n",
        "  for jpg in index_list:\n",
        "    Path.unlink(jpg)\n",
        "  Path.unlink(SCORE_INDEX_LIST_PATH, missing_ok=True)\n",
        "  Path.unlink(PROCESSED_IMAGE_TXT, missing_ok=True)\n",
        "\n",
        "  mkdir(FACES_DIR)\n",
        "\n",
        "reset_file_structure()"
      ],
      "metadata": {
        "id": "YLvFIcwGfQoy"
      },
      "execution_count": 33,
      "outputs": []
    },
    {
      "cell_type": "code",
      "source": [
        "init_score_index()\n",
        "init_dummy()\n",
        "image_list = glob.glob(f\"{SOURCE_DIR}/*.jpg\")\n",
        "\n",
        "if Path(NON_FACES_LIST_PATH).is_file():\n",
        "  with open(NON_FACES_LIST_PATH, \"r\") as txt_file:\n",
        "    lines = txt_file.readlines()\n",
        "\n",
        "  for x in lines:\n",
        "    image_list.remove(x.replace(\"\\n\", ''))\n",
        "\n",
        "\n",
        "Path(PROCESSED_IMAGE_TXT).touch(exist_ok=True)\n",
        "with open(PROCESSED_IMAGE_TXT, \"r\") as txt_file:\n",
        "  lines = txt_file.readlines()\n",
        "\n",
        "for x in lines:\n",
        "  try:\n",
        "    image_list.remove(x.replace(\"\\n\", ''))\n",
        "  except:\n",
        "    pass\n",
        "\n",
        "random.shuffle(image_list)"
      ],
      "metadata": {
        "id": "4WpDHGKdP5y2"
      },
      "execution_count": 34,
      "outputs": []
    },
    {
      "cell_type": "code",
      "source": [
        "progress_count = 0\n",
        "total = len(image_list)\n",
        "for img_path in image_list:\n",
        "  resp = RetinaFace.detect_faces(img_path)\n",
        "\n",
        "  write_processed(img_path)\n",
        "  image_list.remove(img_path)\n",
        "  # drawImageWithPlot(img_path, resp, True, False)\n",
        "  if resp:\n",
        "    # if check_face_index(img_path, resp):\n",
        "    #   break\n",
        "    check_face_index(img_path, resp)\n",
        "    progress_count = progress_count + 1\n",
        "  else:\n",
        "    write_to_nonface_list(img_path)\n",
        "    total = total - 1\n",
        "\n",
        "  print(f\"Progress: {progress_count} / {total}\")\n",
        "\n",
        "  if progress_count >= 50:\n",
        "    break"
      ],
      "metadata": {
        "id": "oEtTIRM_432n"
      },
      "execution_count": null,
      "outputs": []
    },
    {
      "cell_type": "code",
      "source": [
        "drawImageWithPlot(img_path, resp, False, show_img=True)"
      ],
      "metadata": {
        "id": "_LDsgRA3ASko"
      },
      "execution_count": null,
      "outputs": []
    },
    {
      "cell_type": "code",
      "source": [],
      "metadata": {
        "id": "u8zOBCQmT8fk"
      },
      "execution_count": 20,
      "outputs": []
    },
    {
      "cell_type": "markdown",
      "source": [
        "# Testing Area"
      ],
      "metadata": {
        "id": "KctpCGjKszf3"
      }
    },
    {
      "cell_type": "code",
      "source": [
        "# face_objs = DeepFace.extract_faces(\n",
        "#   img_path = \"test.jpg\",\n",
        "#   detector_backend = \"dlib\",\n",
        "#   align = True,\n",
        "# )\n",
        "# face_objs"
      ],
      "metadata": {
        "id": "TnP5NcoiAPXa"
      },
      "execution_count": 21,
      "outputs": []
    },
    {
      "cell_type": "code",
      "source": [
        "# img = cv2.imread('test.jpg')\n",
        "# plt.imshow(img[:, :, ::-1])"
      ],
      "metadata": {
        "id": "9kFch5DqS8fe"
      },
      "execution_count": 22,
      "outputs": []
    },
    {
      "cell_type": "code",
      "source": [
        "# type(face_objs)"
      ],
      "metadata": {
        "id": "iXfuRpjcTU0R"
      },
      "execution_count": 23,
      "outputs": []
    },
    {
      "cell_type": "code",
      "source": [
        "# analyze one image\n",
        "# img_path = \"test2.jpg\"\n",
        "# resp = RetinaFace.detect_faces(img_path)"
      ],
      "metadata": {
        "id": "qv46pjbQWiXp"
      },
      "execution_count": 24,
      "outputs": []
    },
    {
      "cell_type": "code",
      "source": [
        "# output image\n",
        "# drawImageWithPlot(img_path, resp, True)"
      ],
      "metadata": {
        "id": "udn1u22wWqCG"
      },
      "execution_count": 25,
      "outputs": []
    },
    {
      "cell_type": "code",
      "source": [
        "# result = DeepFace.find(img_path=\"saved_crop_0.jpg\", db_path=\"find_image\", model_name=\"VGG-Face\", enforce_detection=False, silent=True)"
      ],
      "metadata": {
        "id": "N9m3vzCC7Jzr"
      },
      "execution_count": 26,
      "outputs": []
    },
    {
      "cell_type": "code",
      "source": [
        "# print(result)"
      ],
      "metadata": {
        "id": "95L6tjug_cWf"
      },
      "execution_count": 27,
      "outputs": []
    }
  ],
  "metadata": {
    "colab": {
      "provenance": [],
      "machine_shape": "hm",
      "gpuType": "A100"
    },
    "kernelspec": {
      "display_name": "Python 3",
      "name": "python3"
    },
    "language_info": {
      "name": "python"
    },
    "accelerator": "GPU"
  },
  "nbformat": 4,
  "nbformat_minor": 0
}