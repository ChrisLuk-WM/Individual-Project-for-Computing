# change current directory
import os 
ROOT_DIR = os.path.dirname(os.path.realpath(__file__)) + "\\"
os.chdir(ROOT_DIR)

from deepface import DeepFace