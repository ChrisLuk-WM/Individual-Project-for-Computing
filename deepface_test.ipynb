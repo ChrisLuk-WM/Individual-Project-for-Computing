{
  "cells": [
    {
      "cell_type": "markdown",
      "source": [
        "# Library Import"
      ],
      "metadata": {
        "id": "CNXBblJSp8hf"
      }
    },
    {
      "cell_type": "code",
      "execution_count": 17,
      "metadata": {
        "id": "dlFSOnD8-7ml",
        "outputId": "d85dac39-7c1f-4f03-bc07-c6f8609da026",
        "colab": {
          "base_uri": "https://localhost:8080/"
        }
      },
      "outputs": [
        {
          "output_type": "stream",
          "name": "stdout",
          "text": [
            "Requirement already satisfied: deepface in /usr/local/lib/python3.11/dist-packages (0.0.93)\n",
            "Requirement already satisfied: tf-keras in /usr/local/lib/python3.11/dist-packages (2.18.0)\n",
            "Requirement already satisfied: matplotlib in /usr/local/lib/python3.11/dist-packages (3.10.0)\n",
            "Requirement already satisfied: requests>=2.27.1 in /usr/local/lib/python3.11/dist-packages (from deepface) (2.32.3)\n",
            "Requirement already satisfied: numpy>=1.14.0 in /usr/local/lib/python3.11/dist-packages (from deepface) (1.26.4)\n",
            "Requirement already satisfied: pandas>=0.23.4 in /usr/local/lib/python3.11/dist-packages (from deepface) (2.2.2)\n",
            "Requirement already satisfied: gdown>=3.10.1 in /usr/local/lib/python3.11/dist-packages (from deepface) (5.2.0)\n",
            "Requirement already satisfied: tqdm>=4.30.0 in /usr/local/lib/python3.11/dist-packages (from deepface) (4.67.1)\n",
            "Requirement already satisfied: Pillow>=5.2.0 in /usr/local/lib/python3.11/dist-packages (from deepface) (11.1.0)\n",
            "Requirement already satisfied: opencv-python>=4.5.5.64 in /usr/local/lib/python3.11/dist-packages (from deepface) (4.11.0.86)\n",
            "Requirement already satisfied: tensorflow>=1.9.0 in /usr/local/lib/python3.11/dist-packages (from deepface) (2.18.0)\n",
            "Requirement already satisfied: keras>=2.2.0 in /usr/local/lib/python3.11/dist-packages (from deepface) (3.8.0)\n",
            "Requirement already satisfied: Flask>=1.1.2 in /usr/local/lib/python3.11/dist-packages (from deepface) (3.1.0)\n",
            "Requirement already satisfied: flask-cors>=4.0.1 in /usr/local/lib/python3.11/dist-packages (from deepface) (5.0.0)\n",
            "Requirement already satisfied: mtcnn>=0.1.0 in /usr/local/lib/python3.11/dist-packages (from deepface) (1.0.0)\n",
            "Requirement already satisfied: retina-face>=0.0.1 in /usr/local/lib/python3.11/dist-packages (from deepface) (0.0.17)\n",
            "Requirement already satisfied: fire>=0.4.0 in /usr/local/lib/python3.11/dist-packages (from deepface) (0.7.0)\n",
            "Requirement already satisfied: gunicorn>=20.1.0 in /usr/local/lib/python3.11/dist-packages (from deepface) (23.0.0)\n",
            "Requirement already satisfied: contourpy>=1.0.1 in /usr/local/lib/python3.11/dist-packages (from matplotlib) (1.3.1)\n",
            "Requirement already satisfied: cycler>=0.10 in /usr/local/lib/python3.11/dist-packages (from matplotlib) (0.12.1)\n",
            "Requirement already satisfied: fonttools>=4.22.0 in /usr/local/lib/python3.11/dist-packages (from matplotlib) (4.56.0)\n",
            "Requirement already satisfied: kiwisolver>=1.3.1 in /usr/local/lib/python3.11/dist-packages (from matplotlib) (1.4.8)\n",
            "Requirement already satisfied: packaging>=20.0 in /usr/local/lib/python3.11/dist-packages (from matplotlib) (24.2)\n",
            "Requirement already satisfied: pyparsing>=2.3.1 in /usr/local/lib/python3.11/dist-packages (from matplotlib) (3.2.1)\n",
            "Requirement already satisfied: python-dateutil>=2.7 in /usr/local/lib/python3.11/dist-packages (from matplotlib) (2.8.2)\n",
            "Requirement already satisfied: termcolor in /usr/local/lib/python3.11/dist-packages (from fire>=0.4.0->deepface) (2.5.0)\n",
            "Requirement already satisfied: Werkzeug>=3.1 in /usr/local/lib/python3.11/dist-packages (from Flask>=1.1.2->deepface) (3.1.3)\n",
            "Requirement already satisfied: Jinja2>=3.1.2 in /usr/local/lib/python3.11/dist-packages (from Flask>=1.1.2->deepface) (3.1.5)\n",
            "Requirement already satisfied: itsdangerous>=2.2 in /usr/local/lib/python3.11/dist-packages (from Flask>=1.1.2->deepface) (2.2.0)\n",
            "Requirement already satisfied: click>=8.1.3 in /usr/local/lib/python3.11/dist-packages (from Flask>=1.1.2->deepface) (8.1.8)\n",
            "Requirement already satisfied: blinker>=1.9 in /usr/local/lib/python3.11/dist-packages (from Flask>=1.1.2->deepface) (1.9.0)\n",
            "Requirement already satisfied: beautifulsoup4 in /usr/local/lib/python3.11/dist-packages (from gdown>=3.10.1->deepface) (4.13.3)\n",
            "Requirement already satisfied: filelock in /usr/local/lib/python3.11/dist-packages (from gdown>=3.10.1->deepface) (3.17.0)\n",
            "Requirement already satisfied: absl-py in /usr/local/lib/python3.11/dist-packages (from keras>=2.2.0->deepface) (1.4.0)\n",
            "Requirement already satisfied: rich in /usr/local/lib/python3.11/dist-packages (from keras>=2.2.0->deepface) (13.9.4)\n",
            "Requirement already satisfied: namex in /usr/local/lib/python3.11/dist-packages (from keras>=2.2.0->deepface) (0.0.8)\n",
            "Requirement already satisfied: h5py in /usr/local/lib/python3.11/dist-packages (from keras>=2.2.0->deepface) (3.12.1)\n",
            "Requirement already satisfied: optree in /usr/local/lib/python3.11/dist-packages (from keras>=2.2.0->deepface) (0.14.0)\n",
            "Requirement already satisfied: ml-dtypes in /usr/local/lib/python3.11/dist-packages (from keras>=2.2.0->deepface) (0.4.1)\n",
            "Requirement already satisfied: joblib>=1.4.2 in /usr/local/lib/python3.11/dist-packages (from mtcnn>=0.1.0->deepface) (1.4.2)\n",
            "Requirement already satisfied: lz4>=4.3.3 in /usr/local/lib/python3.11/dist-packages (from mtcnn>=0.1.0->deepface) (4.4.3)\n",
            "Requirement already satisfied: pytz>=2020.1 in /usr/local/lib/python3.11/dist-packages (from pandas>=0.23.4->deepface) (2025.1)\n",
            "Requirement already satisfied: tzdata>=2022.7 in /usr/local/lib/python3.11/dist-packages (from pandas>=0.23.4->deepface) (2025.1)\n",
            "Requirement already satisfied: six>=1.5 in /usr/local/lib/python3.11/dist-packages (from python-dateutil>=2.7->matplotlib) (1.17.0)\n",
            "Requirement already satisfied: charset-normalizer<4,>=2 in /usr/local/lib/python3.11/dist-packages (from requests>=2.27.1->deepface) (3.4.1)\n",
            "Requirement already satisfied: idna<4,>=2.5 in /usr/local/lib/python3.11/dist-packages (from requests>=2.27.1->deepface) (3.10)\n",
            "Requirement already satisfied: urllib3<3,>=1.21.1 in /usr/local/lib/python3.11/dist-packages (from requests>=2.27.1->deepface) (2.3.0)\n",
            "Requirement already satisfied: certifi>=2017.4.17 in /usr/local/lib/python3.11/dist-packages (from requests>=2.27.1->deepface) (2025.1.31)\n",
            "Requirement already satisfied: astunparse>=1.6.0 in /usr/local/lib/python3.11/dist-packages (from tensorflow>=1.9.0->deepface) (1.6.3)\n",
            "Requirement already satisfied: flatbuffers>=24.3.25 in /usr/local/lib/python3.11/dist-packages (from tensorflow>=1.9.0->deepface) (25.2.10)\n",
            "Requirement already satisfied: gast!=0.5.0,!=0.5.1,!=0.5.2,>=0.2.1 in /usr/local/lib/python3.11/dist-packages (from tensorflow>=1.9.0->deepface) (0.6.0)\n",
            "Requirement already satisfied: google-pasta>=0.1.1 in /usr/local/lib/python3.11/dist-packages (from tensorflow>=1.9.0->deepface) (0.2.0)\n",
            "Requirement already satisfied: libclang>=13.0.0 in /usr/local/lib/python3.11/dist-packages (from tensorflow>=1.9.0->deepface) (18.1.1)\n",
            "Requirement already satisfied: opt-einsum>=2.3.2 in /usr/local/lib/python3.11/dist-packages (from tensorflow>=1.9.0->deepface) (3.4.0)\n",
            "Requirement already satisfied: protobuf!=4.21.0,!=4.21.1,!=4.21.2,!=4.21.3,!=4.21.4,!=4.21.5,<6.0.0dev,>=3.20.3 in /usr/local/lib/python3.11/dist-packages (from tensorflow>=1.9.0->deepface) (4.25.6)\n",
            "Requirement already satisfied: setuptools in /usr/local/lib/python3.11/dist-packages (from tensorflow>=1.9.0->deepface) (75.1.0)\n",
            "Requirement already satisfied: typing-extensions>=3.6.6 in /usr/local/lib/python3.11/dist-packages (from tensorflow>=1.9.0->deepface) (4.12.2)\n",
            "Requirement already satisfied: wrapt>=1.11.0 in /usr/local/lib/python3.11/dist-packages (from tensorflow>=1.9.0->deepface) (1.17.2)\n",
            "Requirement already satisfied: grpcio<2.0,>=1.24.3 in /usr/local/lib/python3.11/dist-packages (from tensorflow>=1.9.0->deepface) (1.70.0)\n",
            "Requirement already satisfied: tensorboard<2.19,>=2.18 in /usr/local/lib/python3.11/dist-packages (from tensorflow>=1.9.0->deepface) (2.18.0)\n",
            "Requirement already satisfied: tensorflow-io-gcs-filesystem>=0.23.1 in /usr/local/lib/python3.11/dist-packages (from tensorflow>=1.9.0->deepface) (0.37.1)\n",
            "Requirement already satisfied: wheel<1.0,>=0.23.0 in /usr/local/lib/python3.11/dist-packages (from astunparse>=1.6.0->tensorflow>=1.9.0->deepface) (0.45.1)\n",
            "Requirement already satisfied: MarkupSafe>=2.0 in /usr/local/lib/python3.11/dist-packages (from Jinja2>=3.1.2->Flask>=1.1.2->deepface) (3.0.2)\n",
            "Requirement already satisfied: markdown>=2.6.8 in /usr/local/lib/python3.11/dist-packages (from tensorboard<2.19,>=2.18->tensorflow>=1.9.0->deepface) (3.7)\n",
            "Requirement already satisfied: tensorboard-data-server<0.8.0,>=0.7.0 in /usr/local/lib/python3.11/dist-packages (from tensorboard<2.19,>=2.18->tensorflow>=1.9.0->deepface) (0.7.2)\n",
            "Requirement already satisfied: soupsieve>1.2 in /usr/local/lib/python3.11/dist-packages (from beautifulsoup4->gdown>=3.10.1->deepface) (2.6)\n",
            "Requirement already satisfied: PySocks!=1.5.7,>=1.5.6 in /usr/local/lib/python3.11/dist-packages (from requests[socks]->gdown>=3.10.1->deepface) (1.7.1)\n",
            "Requirement already satisfied: markdown-it-py>=2.2.0 in /usr/local/lib/python3.11/dist-packages (from rich->keras>=2.2.0->deepface) (3.0.0)\n",
            "Requirement already satisfied: pygments<3.0.0,>=2.13.0 in /usr/local/lib/python3.11/dist-packages (from rich->keras>=2.2.0->deepface) (2.18.0)\n",
            "Requirement already satisfied: mdurl~=0.1 in /usr/local/lib/python3.11/dist-packages (from markdown-it-py>=2.2.0->rich->keras>=2.2.0->deepface) (0.1.2)\n"
          ]
        }
      ],
      "source": [
        "!pip install deepface tf-keras matplotlib"
      ]
    },
    {
      "cell_type": "markdown",
      "source": [
        "## Library Install"
      ],
      "metadata": {
        "id": "dfzqRd8lqicB"
      }
    },
    {
      "cell_type": "code",
      "source": [
        "from deepface import DeepFace\n",
        "from retinaface import RetinaFace"
      ],
      "metadata": {
        "id": "jSR6O075WeWX"
      },
      "execution_count": 18,
      "outputs": []
    },
    {
      "cell_type": "code",
      "source": [
        "import cv2\n",
        "import matplotlib.pyplot as plt\n",
        "from PIL import Image, ImageDraw\n",
        "import glob"
      ],
      "metadata": {
        "id": "0wKrK0FqMP2V"
      },
      "execution_count": 19,
      "outputs": []
    },
    {
      "cell_type": "code",
      "source": [
        "import json"
      ],
      "metadata": {
        "id": "k87vl5xNuHFH"
      },
      "execution_count": 20,
      "outputs": []
    },
    {
      "cell_type": "markdown",
      "source": [
        "Use Google Colab"
      ],
      "metadata": {
        "id": "MnhqkD_FrDzf"
      }
    },
    {
      "cell_type": "code",
      "source": [
        "from google.colab import drive\n",
        "\n",
        "drive.mount('/content/gdrive')\n",
        "ROOT_DIR = \"/content/gdrive/MyDrive/Colab Notebooks/FR_Project/\""
      ],
      "metadata": {
        "id": "mgAvVTNWp7zM",
        "outputId": "1eb9babd-341d-4e4a-b653-7fc9e850009c",
        "colab": {
          "base_uri": "https://localhost:8080/"
        }
      },
      "execution_count": 21,
      "outputs": [
        {
          "output_type": "stream",
          "name": "stdout",
          "text": [
            "Drive already mounted at /content/gdrive; to attempt to forcibly remount, call drive.mount(\"/content/gdrive\", force_remount=True).\n"
          ]
        }
      ]
    },
    {
      "cell_type": "markdown",
      "source": [
        "# Main Logic"
      ],
      "metadata": {
        "id": "sHiZe3r0rINl"
      }
    },
    {
      "cell_type": "markdown",
      "source": [
        "## File structure"
      ],
      "metadata": {
        "id": "gghA3MP61i12"
      }
    },
    {
      "cell_type": "code",
      "source": [
        "from pathlib import Path\n",
        "import shutil\n",
        "\n",
        "\n",
        "def mkdir(p):\n",
        "  Path(p).mkdir(parents=True, exist_ok=True)\n"
      ],
      "metadata": {
        "id": "oHFPxbeo2dey"
      },
      "execution_count": 22,
      "outputs": []
    },
    {
      "cell_type": "code",
      "source": [
        "SOURCE_DIR = f\"{ROOT_DIR}Raw_Image_Source\"\n",
        "PROCESSED_IMAGE_TXT = f\"Processed.txt\"\n",
        "\n",
        "score_index_list = {}\n",
        "non_face_list = []"
      ],
      "metadata": {
        "id": "0I6iB-f_1naS"
      },
      "execution_count": 92,
      "outputs": []
    },
    {
      "cell_type": "code",
      "source": [
        "DRIVE_OUTPUT = False\n",
        "\n",
        "if DRIVE_OUTPUT:\n",
        "  FACES_INDEX = f\"{ROOT_DIR}Faces_Index\"\n",
        "  FACES_DIR = f\"{ROOT_DIR}Faces\"\n",
        "  NON_FACES_LIST_PATH = f\"{ROOT_DIR}Non_Faces.txt\"\n",
        "  SCORE_INDEX_LIST_PATH = f\"{FACES_INDEX}/score_index_list.json\"\n",
        "else:\n",
        "  FACES_INDEX = f\"Faces_Index\"\n",
        "  FACES_DIR = f\"Faces\"\n",
        "  NON_FACES_LIST_PATH = f\"Non_Faces.txt\"\n",
        "  SCORE_INDEX_LIST_PATH = f\"{FACES_INDEX}/score_index_list.json\"\n",
        "\n",
        "# TEMP_DIR = \"Temp\"\n",
        "mkdir(FACES_INDEX)\n",
        "mkdir(FACES_DIR)\n",
        "# mkdir(TEMP_DIR)\n",
        "\n",
        "def write_processed(img_path):\n",
        "  with open(PROCESSED_IMAGE_TXT, \"a+\") as txt_file:\n",
        "    txt_file.writelines(img_path + \"\\n\")\n"
      ],
      "metadata": {
        "id": "DPYzr9EK2tNi"
      },
      "execution_count": 91,
      "outputs": []
    },
    {
      "cell_type": "markdown",
      "source": [
        "Init JSON score index list"
      ],
      "metadata": {
        "id": "XXLVXkJIuRYb"
      }
    },
    {
      "cell_type": "code",
      "source": [
        "def init_score_index():\n",
        "  if not Path(SCORE_INDEX_LIST_PATH).is_file():\n",
        "    score_index_list = {}\n",
        "    with open(SCORE_INDEX_LIST_PATH, 'w') as f:\n",
        "          json.dump({}, f)\n",
        "\n",
        "  with open(SCORE_INDEX_LIST_PATH, 'r+') as f:\n",
        "      score_index_list = json.load(f)"
      ],
      "metadata": {
        "id": "WgUiAeA3uOAz"
      },
      "execution_count": 55,
      "outputs": []
    },
    {
      "cell_type": "code",
      "source": [
        "img = Image.new('RGB',(480,640),\"rgb(255,255,255)\")\n",
        "img.save(f\"{FACES_INDEX}/dummy.jpg\")"
      ],
      "metadata": {
        "id": "DVJFDT4hFy7s"
      },
      "execution_count": 58,
      "outputs": []
    },
    {
      "cell_type": "code",
      "source": [
        "def read_nonface_list():\n",
        "  if not Path(NON_FACES_LIST_PATH).is_file():\n",
        "    non_face_list = []\n",
        "  else:\n",
        "    with open(NON_FACES_LIST_PATH, \"r\") as f:\n",
        "      non_face_list = [l.replace(\"\\n\", \"\") for l in f.readlines()]\n",
        "\n",
        "\n",
        "def write_to_nonface_list(img_path):\n",
        "  if not Path(NON_FACES_LIST_PATH).is_file():\n",
        "    non_face_list = []\n",
        "\n",
        "  with open(NON_FACES_LIST_PATH, \"a+\") as f:\n",
        "    f.writelines(img_path + \"\\n\")\n",
        "\n",
        "  non_face_list.append(img_path)"
      ],
      "metadata": {
        "id": "eyDsoG9BWL9v"
      },
      "execution_count": 93,
      "outputs": []
    },
    {
      "cell_type": "markdown",
      "source": [
        "## **Function:** Image view with PIL\n",
        "\n",
        "drawImageWithPlot( image_Path, param, save_crop=False, *, show_img=False )\n",
        "\n",
        "---\n",
        "\n",
        "> param: {\n",
        "  \"face_area_1\": {\n",
        "    facial_area: [x, y, w, h],\n",
        "    ...\n",
        "  },\n",
        "  \"face_area_2\": {\n",
        "    facial_area: [x, y, w, h],\n",
        "    ...\n",
        "  }, ...\n",
        "}"
      ],
      "metadata": {
        "id": "T7Mfzj_6rZd3"
      }
    },
    {
      "cell_type": "code",
      "source": [
        "def plt_show_img(imgs: list) -> None:\n",
        "  imgs_count = len(imgs)\n",
        "  for i in range(imgs_count):\n",
        "    ax = plt.subplot(1, imgs_count, i+1)\n",
        "    ax.imshow(imgs[i])\n",
        "    ax.set_xticks([])\n",
        "    ax.set_yticks([])\n",
        "  plt.tight_layout(h_pad=3)\n",
        "  plt.show()\n",
        "\n",
        "def drawImageWithPlot(img_path, param, save_crop=False, *, show_img=False):\n",
        "  im = Image.open(img_path)\n",
        "  crop_array = []\n",
        "  crop_len = len(crop_array)\n",
        "  crop_count = 0\n",
        "\n",
        "  draw_img_grid = []\n",
        "\n",
        "  for key in param:\n",
        "    rect = param[key]['facial_area']\n",
        "    x, y, w, h = rect\n",
        "\n",
        "    if save_crop > 0:\n",
        "      im_crop = im.crop((x-100, y-100, w+100, h+100))\n",
        "      save_path = crop_array[crop_count] if crop_count < crop_len else f\"{FACES_DIR}/saved_crop_{crop_count}.jpg\"\n",
        "      im_crop.save(save_path)\n",
        "      crop_count = crop_count + 1\n",
        "\n",
        "    border_width = int(min(w-x, h-y) / 15)\n",
        "    border_width = max(border_width, 10)\n",
        "    border_width = min(border_width, 20)\n",
        "\n",
        "    draw_img_grid.append((x, y, w, h, border_width))\n",
        "    # draw = ImageDraw.Draw(im)\n",
        "    # draw.rectangle((x, y, w, h), outline=\"red\", width=border_width)\n",
        "\n",
        "  if show_img:\n",
        "    draw = ImageDraw.Draw(im)\n",
        "    for x, y, w, h, border_width in draw_img_grid:\n",
        "      draw.rectangle((x, y, w, h), outline=\"red\", width=border_width)\n",
        "    plt_show_img([im])"
      ],
      "metadata": {
        "id": "ewFFw0s8VoEm"
      },
      "execution_count": 27,
      "outputs": []
    },
    {
      "cell_type": "markdown",
      "source": [
        "## Function: Save Crop Image as Face_index"
      ],
      "metadata": {
        "id": "mua2H3ktLkDl"
      }
    },
    {
      "cell_type": "code",
      "source": [
        "# Model List\n",
        "# models_name = [\"VGG-Face\", \"Facenet\", \"Facenet512\", \"OpenFace\",\n",
        "#         \"DeepID\", \"ArcFace\", \"SFace\"]\n",
        "models_name = [\"Facenet512\", \"OpenFace\", \"DeepID\", \"SFace\"]"
      ],
      "metadata": {
        "id": "lVmn46FjvN_7"
      },
      "execution_count": 28,
      "outputs": []
    },
    {
      "cell_type": "code",
      "source": [
        "def gen_next_img_full_path():\n",
        "  i = 1\n",
        "  while True:\n",
        "    if f\"{FACES_INDEX}/person{i}.jpg\" not in score_index_list:\n",
        "      return f\"{FACES_INDEX}/person{i}.jpg\"\n",
        "    i = i + 1"
      ],
      "metadata": {
        "id": "YfvS2Y0A0eSo"
      },
      "execution_count": 29,
      "outputs": []
    },
    {
      "cell_type": "code",
      "source": [
        "# True: replace\n",
        "# False: index no change\n",
        "def check_new_index_file(img_name, score) -> bool:\n",
        "  if img_name not in score_index_list:\n",
        "    return True\n",
        "  curr_score = score_index_list[img_name]\n",
        "  return curr_score < score\n",
        "\n",
        "def check_face_index(img_path, param):\n",
        "  im = Image.open(img_path)\n",
        "  found_person = [f'{FACES_INDEX}/dummy.jpg'] # two person will not appear in same image\n",
        "\n",
        "  for key in param:\n",
        "    score = param[key]['score']\n",
        "    rect = param[key]['facial_area']\n",
        "    x, y, w, h = rect\n",
        "    total_width = w - x\n",
        "    total_height = h - y\n",
        "\n",
        "    im_crop = im.crop((x - total_width*0.3, y - total_height*0.4, w + total_width*0.3, h + total_height*0.4))\n",
        "\n",
        "    # filter too small images\n",
        "    if w - x <= 30 or h - y <= 30:\n",
        "      print(f\"image too small: {rect}\")\n",
        "      continue\n",
        "\n",
        "    # filter score too low?\n",
        "    if score < 0.96:\n",
        "      print(f\"score too low: {score}\")\n",
        "      continue\n",
        "\n",
        "    save_path = f\"Crop_Image_Temp.jpg\"\n",
        "    im_crop.save(save_path)\n",
        "\n",
        "    match_res = []\n",
        "    match_model = []\n",
        "    result = DeepFace.find(img_path=save_path, db_path=FACES_INDEX, enforce_detection=False, silent=True)\n",
        "    for res in result:\n",
        "      if res.empty: continue\n",
        "      r = res[\"identity\"][0]\n",
        "      if r not in match_res:\n",
        "        match_res.append(r)\n",
        "      match_model.append(x)\n",
        "\n",
        "    print(f\"Image Score: {score}\")\n",
        "    print(f\"Matched: {match_res}\")\n",
        "    print(f\"Reported by: {match_model}\")\n",
        "    found_img_full_path = ''\n",
        "    if match_res and match_res[0] not in found_person:\n",
        "      found_img_full_path = match_res[0]\n",
        "    else:\n",
        "      found_img_full_path = gen_next_img_full_path()\n",
        "\n",
        "    print(f\"found_img_full_path: {found_img_full_path}\")\n",
        "    if check_new_index_file(found_img_full_path, score):\n",
        "\n",
        "      if found_img_full_path in score_index_list:\n",
        "        print(f\"Replacing {found_img_full_path} from {score_index_list[found_img_full_path]} -> {score}\")\n",
        "      else:\n",
        "        print(f\"New Person: {found_img_full_path} with score {score}\")\n",
        "      shutil.move(save_path, f\"{found_img_full_path}\")\n",
        "      score_index_list[found_img_full_path] = score\n",
        "      with open(SCORE_INDEX_LIST_PATH, 'w') as f:\n",
        "        json.dump(score_index_list, f)\n",
        "\n",
        "      Path.unlink(f'{FACES_INDEX}/dummy.jpg', True)\n",
        "\n",
        "    found_person.append(found_img_full_path)\n",
        "    print()\n"
      ],
      "metadata": {
        "id": "cYAEyAvDLi0Q"
      },
      "execution_count": 88,
      "outputs": []
    },
    {
      "cell_type": "markdown",
      "source": [
        "## Image Analyze"
      ],
      "metadata": {
        "id": "HZ1P04TIuGNe"
      }
    },
    {
      "cell_type": "code",
      "source": [
        "init_score_index()\n",
        "image_list = glob.glob(f\"{SOURCE_DIR}/*.jpg\")\n",
        "\n",
        "Path(PROCESSED_IMAGE_TXT).touch(exist_ok=True)\n",
        "with open(PROCESSED_IMAGE_TXT, \"r\") as txt_file:\n",
        "  lines = txt_file.readlines()\n",
        "\n",
        "for x in lines:\n",
        "  image_list.remove(x.replace(\"\\n\", ''))"
      ],
      "metadata": {
        "id": "4WpDHGKdP5y2"
      },
      "execution_count": 56,
      "outputs": []
    },
    {
      "cell_type": "code",
      "source": [
        "for img_path in image_list:\n",
        "  resp = RetinaFace.detect_faces(img_path)\n",
        "\n",
        "  write_processed(img_path)\n",
        "  image_list.remove(img_path)\n",
        "  # drawImageWithPlot(img_path, resp, True, False)\n",
        "  if resp:\n",
        "    check_face_index(img_path, resp)\n",
        "    break\n",
        "\n",
        "  # target_path = img_path.replace(f\"{SOURCE_DIR}/\", \"\")\n",
        "  # shutil.copyfile(img_path, f\"{NON_FACES_DIR}/{target_path}\")\n",
        "  write_to_nonface_list()"
      ],
      "metadata": {
        "id": "oEtTIRM_432n"
      },
      "execution_count": null,
      "outputs": []
    },
    {
      "cell_type": "code",
      "source": [
        "drawImageWithPlot(img_path, resp, False, show_img=True)"
      ],
      "metadata": {
        "id": "_LDsgRA3ASko"
      },
      "execution_count": null,
      "outputs": []
    },
    {
      "cell_type": "code",
      "source": [],
      "metadata": {
        "id": "u8zOBCQmT8fk"
      },
      "execution_count": null,
      "outputs": []
    },
    {
      "cell_type": "markdown",
      "source": [
        "# Testing Area"
      ],
      "metadata": {
        "id": "KctpCGjKszf3"
      }
    },
    {
      "cell_type": "code",
      "source": [
        "# face_objs = DeepFace.extract_faces(\n",
        "#   img_path = \"test.jpg\",\n",
        "#   detector_backend = \"dlib\",\n",
        "#   align = True,\n",
        "# )\n",
        "# face_objs"
      ],
      "metadata": {
        "id": "TnP5NcoiAPXa"
      },
      "execution_count": null,
      "outputs": []
    },
    {
      "cell_type": "code",
      "source": [
        "# img = cv2.imread('test.jpg')\n",
        "# plt.imshow(img[:, :, ::-1])"
      ],
      "metadata": {
        "id": "9kFch5DqS8fe"
      },
      "execution_count": null,
      "outputs": []
    },
    {
      "cell_type": "code",
      "source": [
        "# type(face_objs)"
      ],
      "metadata": {
        "id": "iXfuRpjcTU0R"
      },
      "execution_count": null,
      "outputs": []
    },
    {
      "cell_type": "code",
      "source": [
        "# analyze one image\n",
        "# img_path = \"test2.jpg\"\n",
        "# resp = RetinaFace.detect_faces(img_path)"
      ],
      "metadata": {
        "id": "qv46pjbQWiXp",
        "outputId": "a386e339-833f-4644-d880-48a1ed801d6a",
        "colab": {
          "base_uri": "https://localhost:8080/",
          "height": 321
        }
      },
      "execution_count": 33,
      "outputs": [
        {
          "output_type": "error",
          "ename": "ValueError",
          "evalue": "Input image file path (test2.jpg) does not exist.",
          "traceback": [
            "\u001b[0;31m---------------------------------------------------------------------------\u001b[0m",
            "\u001b[0;31mValueError\u001b[0m                                Traceback (most recent call last)",
            "\u001b[0;32m<ipython-input-33-b60de597e8d9>\u001b[0m in \u001b[0;36m<cell line: 0>\u001b[0;34m()\u001b[0m\n\u001b[1;32m      1\u001b[0m \u001b[0;31m# analyze one image\u001b[0m\u001b[0;34m\u001b[0m\u001b[0;34m\u001b[0m\u001b[0m\n\u001b[1;32m      2\u001b[0m \u001b[0mimg_path\u001b[0m \u001b[0;34m=\u001b[0m \u001b[0;34m\"test2.jpg\"\u001b[0m\u001b[0;34m\u001b[0m\u001b[0;34m\u001b[0m\u001b[0m\n\u001b[0;32m----> 3\u001b[0;31m \u001b[0mresp\u001b[0m \u001b[0;34m=\u001b[0m \u001b[0mRetinaFace\u001b[0m\u001b[0;34m.\u001b[0m\u001b[0mdetect_faces\u001b[0m\u001b[0;34m(\u001b[0m\u001b[0mimg_path\u001b[0m\u001b[0;34m)\u001b[0m\u001b[0;34m\u001b[0m\u001b[0;34m\u001b[0m\u001b[0m\n\u001b[0m",
            "\u001b[0;32m/usr/local/lib/python3.11/dist-packages/retinaface/RetinaFace.py\u001b[0m in \u001b[0;36mdetect_faces\u001b[0;34m(img_path, threshold, model, allow_upscaling)\u001b[0m\n\u001b[1;32m     89\u001b[0m     \"\"\"\n\u001b[1;32m     90\u001b[0m     \u001b[0mresp\u001b[0m \u001b[0;34m=\u001b[0m \u001b[0;34m{\u001b[0m\u001b[0;34m}\u001b[0m\u001b[0;34m\u001b[0m\u001b[0;34m\u001b[0m\u001b[0m\n\u001b[0;32m---> 91\u001b[0;31m     \u001b[0mimg\u001b[0m \u001b[0;34m=\u001b[0m \u001b[0mpreprocess\u001b[0m\u001b[0;34m.\u001b[0m\u001b[0mget_image\u001b[0m\u001b[0;34m(\u001b[0m\u001b[0mimg_path\u001b[0m\u001b[0;34m)\u001b[0m\u001b[0;34m\u001b[0m\u001b[0;34m\u001b[0m\u001b[0m\n\u001b[0m\u001b[1;32m     92\u001b[0m \u001b[0;34m\u001b[0m\u001b[0m\n\u001b[1;32m     93\u001b[0m     \u001b[0;31m# ---------------------------\u001b[0m\u001b[0;34m\u001b[0m\u001b[0;34m\u001b[0m\u001b[0m\n",
            "\u001b[0;32m/usr/local/lib/python3.11/dist-packages/retinaface/commons/preprocess.py\u001b[0m in \u001b[0;36mget_image\u001b[0;34m(img_uri)\u001b[0m\n\u001b[1;32m     35\u001b[0m \u001b[0;34m\u001b[0m\u001b[0m\n\u001b[1;32m     36\u001b[0m         \u001b[0;32mif\u001b[0m \u001b[0;32mnot\u001b[0m \u001b[0mos\u001b[0m\u001b[0;34m.\u001b[0m\u001b[0mpath\u001b[0m\u001b[0;34m.\u001b[0m\u001b[0misfile\u001b[0m\u001b[0;34m(\u001b[0m\u001b[0mimg_uri\u001b[0m\u001b[0;34m)\u001b[0m\u001b[0;34m:\u001b[0m\u001b[0;34m\u001b[0m\u001b[0;34m\u001b[0m\u001b[0m\n\u001b[0;32m---> 37\u001b[0;31m             \u001b[0;32mraise\u001b[0m \u001b[0mValueError\u001b[0m\u001b[0;34m(\u001b[0m\u001b[0;34mf\"Input image file path ({img_uri}) does not exist.\"\u001b[0m\u001b[0;34m)\u001b[0m\u001b[0;34m\u001b[0m\u001b[0;34m\u001b[0m\u001b[0m\n\u001b[0m\u001b[1;32m     38\u001b[0m \u001b[0;34m\u001b[0m\u001b[0m\n\u001b[1;32m     39\u001b[0m         \u001b[0;31m# pylint: disable=no-member\u001b[0m\u001b[0;34m\u001b[0m\u001b[0;34m\u001b[0m\u001b[0m\n",
            "\u001b[0;31mValueError\u001b[0m: Input image file path (test2.jpg) does not exist."
          ]
        }
      ]
    },
    {
      "cell_type": "code",
      "source": [
        "# output image\n",
        "# drawImageWithPlot(img_path, resp, True)"
      ],
      "metadata": {
        "id": "udn1u22wWqCG"
      },
      "execution_count": null,
      "outputs": []
    },
    {
      "cell_type": "code",
      "source": [
        "# result = DeepFace.find(img_path=\"saved_crop_0.jpg\", db_path=\"find_image\", model_name=\"VGG-Face\", enforce_detection=False, silent=True)"
      ],
      "metadata": {
        "id": "N9m3vzCC7Jzr"
      },
      "execution_count": null,
      "outputs": []
    },
    {
      "cell_type": "code",
      "source": [
        "# print(result)"
      ],
      "metadata": {
        "id": "95L6tjug_cWf"
      },
      "execution_count": null,
      "outputs": []
    }
  ],
  "metadata": {
    "colab": {
      "provenance": [],
      "machine_shape": "hm",
      "gpuType": "L4"
    },
    "kernelspec": {
      "display_name": "Python 3",
      "name": "python3"
    },
    "language_info": {
      "name": "python"
    },
    "accelerator": "GPU"
  },
  "nbformat": 4,
  "nbformat_minor": 0
}